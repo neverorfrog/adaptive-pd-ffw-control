{
 "cells": [
  {
   "cell_type": "code",
   "execution_count": null,
   "metadata": {},
   "outputs": [],
   "source": [
    "from tools.Models import TwoLink\n",
    "from math import pi\n",
    "import spatialgeometry as sg\n",
    "\n",
    "robot = TwoLink()\n",
    "# robot.q = [pi/4, 0]\n",
    "fr = robot.fkine(robot.q)\n",
    "print(fr)\n",
    "J = robot.jacob0(robot.q)\n",
    "print(J)\n",
    "\n",
    "axes = sg.Axes(0.5)\n",
    "print(axes)"
   ]
  },
  {
   "cell_type": "code",
   "execution_count": null,
   "metadata": {},
   "outputs": [],
   "source": [
    "import numpy as np\n",
    "import matplotlib.pyplot as plt\n",
    "\n",
    "\n",
    "def f(t):\n",
    "    return np.exp(-t) * np.cos(2*np.pi*t)\n",
    "\n",
    "\n",
    "t1 = np.arange(0.0, 5.0, 0.1)\n",
    "t2 = np.arange(0.0, 5.0, 0.02)\n",
    "\n",
    "\n",
    "fig,axs = plt.subplots(2,1)\n",
    "axs[0].plot(t1, f(t1), color='tab:blue', marker='o')\n",
    "axs[0].plot(t2, f(t2), color='black')\n",
    "axs[1].plot(t2, np.cos(2*np.pi*t2), color='tab:orange', linestyle='--')"
   ]
  },
  {
   "cell_type": "code",
   "execution_count": null,
   "metadata": {},
   "outputs": [],
   "source": [
    "from tools.Models import TwoLink\n",
    "robot = TwoLink()\n",
    "currentPose = robot.fkine(robot.q)\n",
    "print(currentPose)\n",
    "currentPose.t[0:2]"
   ]
  },
  {
   "cell_type": "code",
   "execution_count": null,
   "metadata": {},
   "outputs": [],
   "source": [
    "import numpy as np\n",
    "t = []\n",
    "t.append([0,1])\n",
    "t.append([2,3])\n",
    "print(t)\n",
    "t = np.array(t)\n",
    "t[:,0]"
   ]
  },
  {
   "cell_type": "code",
   "execution_count": null,
   "metadata": {},
   "outputs": [],
   "source": [
    "\n",
    "import numpy as np\n",
    "l = [[2,3],[3,4],[4,5]]\n",
    "\n",
    "np.array(l)"
   ]
  },
  {
   "cell_type": "code",
   "execution_count": null,
   "metadata": {},
   "outputs": [],
   "source": [
    "import numpy as np\n",
    "from tools.Models import TwoLink, UncertantTwoLink\n",
    "TwoLink()"
   ]
  },
  {
   "cell_type": "code",
   "execution_count": null,
   "metadata": {},
   "outputs": [],
   "source": [
    "from tools.Control import Control\n",
    "from roboticstoolbox.backends.PyPlot import PyPlot\n",
    "from math import pi\n",
    "from roboticstoolbox.tools.trajectory import *\n",
    "from tools.Utils import *\n",
    "from control.trajectory_control import *\n",
    "\n",
    "brobot = UncertantTwoLink()\n",
    "robot = TwoLink()\n",
    "env = PyPlot()\n",
    "goal = [pi/8,0]\n",
    "\n",
    "T = 2\n",
    "traj_fun = [quintic_func(robot.q[i], goal[i],T) for i in range(robot.n)]\n",
    "\n",
    "traj = ClippedTrajectory(traj_fun, T)\n",
    "loop = FBL(robot, env, [0,-9.81,0])\n",
    "\n",
    "loop.setR(reference = traj, goal = goal, threshold = 0.1)\n",
    "loop.setK(kp = [16,8], kd = [4,2])\n",
    "\n",
    "q_d, qd_d, qdd_d = loop.reference(2, 1)"
   ]
  },
  {
   "cell_type": "code",
   "execution_count": null,
   "metadata": {},
   "outputs": [],
   "source": [
    "import numpy as np\n",
    "ref = np.array([1,1,2])#.reshape(3,1)\n",
    "pos = np.array([1.04,1.04,2.04])#.reshape(3,1)\n",
    "th = 0.05\n",
    "\n",
    "pos.dot(ref)\n",
    "\n",
    "e = ref.T - pos.T\n",
    "e\n",
    "\n",
    "go = (e < th)[False].shape[0]\n",
    "go"
   ]
  },
  {
   "cell_type": "code",
   "execution_count": null,
   "metadata": {},
   "outputs": [],
   "source": [
    "from tools.Models import *\n",
    "from math import pi\n",
    "robot = OneLink()\n",
    "q = pi/2\n",
    "print(robot.inertia(q))\n",
    "robot.gravload(q, gravity = [0,-9.81, 0])"
   ]
  },
  {
   "cell_type": "code",
   "execution_count": 92,
   "metadata": {},
   "outputs": [
    {
     "name": "stdout",
     "output_type": "stream",
     "text": [
      "[[cos(q2) sin(q2) 0]\n",
      " [-sin(q2) cos(q2) 0]\n",
      " [0 0 1]]\n"
     ]
    },
    {
     "data": {
      "text/plain": [
       "True"
      ]
     },
     "execution_count": 92,
     "metadata": {},
     "output_type": "execute_result"
    }
   ],
   "source": [
    "from tools.Models import *\n",
    "from math import pi\n",
    "import sympy as sym\n",
    "\n",
    "robot = SymbolicTwoLink()\n",
    "q = sym.symbols(\"q1:3\")\n",
    "A = robot[1].A(q[1])\n",
    "print(A.inv().R)\n",
    "robot.links[1].isrevolute"
   ]
  },
  {
   "cell_type": "code",
   "execution_count": 3,
   "metadata": {},
   "outputs": [
    {
     "name": "stdout",
     "output_type": "stream",
     "text": [
      "(Izz1, Izz2, Izz3)\n"
     ]
    },
    {
     "data": {
      "text/plain": [
       "array([[Ixx1, 0, 0],\n",
       "       [0, Iyy1, 0],\n",
       "       [0, 0, Izz1]], dtype=object)"
      ]
     },
     "execution_count": 3,
     "metadata": {},
     "output_type": "execute_result"
    }
   ],
   "source": [
    "import sympy as sym\n",
    "import numpy as np\n",
    "\n",
    "n = 3\n",
    "Ixx = sym.symbols(f\"Ixx(1:{n+1})\")\n",
    "Iyy = sym.symbols(f\"Iyy(1:{n+1})\")\n",
    "Izz = sym.symbols(f\"Izz(1:{n+1})\")\n",
    "\n",
    "print(Izz)\n",
    "\n",
    "\n",
    "I = np.zeros((3,3,3),dtype=object)\n",
    "I[1,:,:] = np.diag([Ixx[0],Iyy[0],Izz[0]])\n",
    "I[1,:,:]"
   ]
  },
  {
   "cell_type": "code",
   "execution_count": 7,
   "metadata": {},
   "outputs": [
    {
     "name": "stdout",
     "output_type": "stream",
     "text": [
      "[[0 0 0]\n",
      " [0 0 0]\n",
      " [0 0 0]]\n",
      "[a2*cos(q2) a2*sin(q2) 0]\n",
      "a2\n",
      "[[0 0 a2*cos(q2)]\n",
      " [0 0 a2*sin(q2)]\n",
      " [0 0 0]]\n",
      "[[0 0 dc2*cos(q2)]\n",
      " [0 0 dc2*sin(q2)]\n",
      " [0 0 0]]\n"
     ]
    }
   ],
   "source": [
    "import sympy as sym\n",
    "import numpy as np\n",
    "from tools.Models import *\n",
    "\n",
    "robot = SymbolicTwoLink()\n",
    "q = sym.symbol(\"q1:3\")\n",
    "A = robot[1].A(q[1])\n",
    "\n",
    "n = 2\n",
    "a = sym.symbol(f\"a(1:{n+1})\") #link lenghts\n",
    "dc = sym.symbol(f\"dc(1:{n+1})\")\n",
    "\n",
    "ri = np.zeros((3,n+1),dtype=object)\n",
    "print(ri)\n",
    "ri[:,2] = A.t\n",
    "print(ri[:,2])\n",
    "print(a[1])\n",
    "print(ri)\n",
    "ri[:,2] = [ok.subs(a[1],dc[1]) for ok in ri[:,2]]\n",
    "print(ri)"
   ]
  },
  {
   "cell_type": "code",
   "execution_count": 49,
   "metadata": {},
   "outputs": [
    {
     "name": "stdout",
     "output_type": "stream",
     "text": [
      "[[0 0 0]\n",
      " [0 0 0]]\n",
      "(2, 3)\n",
      "[-a1*sin(dc1)**2 - a1*cos(dc1)**2, 0, 0]\n"
     ]
    }
   ],
   "source": [
    "import sympy as sym\n",
    "import numpy as np\n",
    "from tools.Models import *\n",
    "\n",
    "robot = SymbolicTwoLink()\n",
    "n = 2\n",
    "q = sym.symbol(f\"q(1:{n+1})\") #link variables\n",
    "a = sym.symbol(f\"a(1:{n+1})\") #link lenghts\n",
    "\n",
    "#dynamic parameters\n",
    "m = sym.symbol(f\"a(1:{n+1})\") #link masses\n",
    "dc = sym.symbol(f\"dc(1:{n+1})\")\n",
    "Ixx = sym.symbol(f\"Ixx(1:{n+1})\")\n",
    "Iyy = sym.symbol(f\"Iyy(1:{n+1})\")\n",
    "Izz = sym.symbol(f\"Izz(1:{n+1})\") \n",
    "\n",
    "I = np.full((n,3,3), sym.zero(), dtype = object) #tensor with ith matrix representing inertia matrix of ith COM\n",
    "ri = np.full((n, 3), sym.zero(), dtype = object) #n vectors from RF i-1 to i wrt RF i-1\n",
    "rc = np.full((n, 3), sym.zero(), dtype = object) #n position vectors of COM i seen from RF i\n",
    "rim1c = np.full((n, 3), sym.zero(), dtype = object) #n vectors from RF i-1 to COM as seen from RF i\n",
    "riim1 = np.full((n, 3), sym.zero(), dtype = object) #n vectors from RF i to RF i-1 as seen from RF i\n",
    "Rinv = np.full((n,3,3), sym.zero(), dtype = object) #tensor with ith matrix representing rotation from Rf i to Rf i-1\n",
    "   \n",
    "print(riim1)   \n",
    "# for i in range(n):\n",
    "i = 0\n",
    "sigma = robot.links[i].isprismatic #check for prismatic joints\n",
    "I[i,:,:] = np.diag([Ixx[i],Iyy[i],Izz[i]]) #diagonal inertias\n",
    "A = robot[i].A(q[i])\n",
    "ri[i,:] = A.t #homogeneus from frame i to i+1\n",
    "Ainv = A.inv()\n",
    "Rinv[i,:,:] = Ainv.R\n",
    "riim1[i,:] = Ainv.t\n",
    "\n",
    "ri[ri == 0] = sym.zero()\n",
    "rim1c = Rinv[i,:,:] @ [elem.subs(a[i],dc[i]) for elem in ri[i,:]]\n",
    "\n",
    "print(riim1.shape)\n",
    "print([elem.subs(q[i],dc[i]) for elem in riim1[i,:]])"
   ]
  },
  {
   "cell_type": "code",
   "execution_count": 18,
   "metadata": {},
   "outputs": [
    {
     "name": "stdout",
     "output_type": "stream",
     "text": [
      "<class 'sympy.core.numbers.Zero'>\n"
     ]
    },
    {
     "ename": "ValueError",
     "evalue": "can't insert different type of object",
     "output_type": "error",
     "traceback": [
      "\u001b[0;31m---------------------------------------------------------------------------\u001b[0m",
      "\u001b[0;31mValueError\u001b[0m                                Traceback (most recent call last)",
      "\u001b[1;32m/home/flavio/Code/uni/robotics-project/src/tests.ipynb Cell 13\u001b[0m in \u001b[0;36m2\n\u001b[1;32m     <a href='vscode-notebook-cell:/home/flavio/Code/uni/robotics-project/src/tests.ipynb#X23sZmlsZQ%3D%3D?line=26'>27</a>\u001b[0m sigma \u001b[39m=\u001b[39m robot\u001b[39m.\u001b[39mlinks[i]\u001b[39m.\u001b[39misprismatic \u001b[39m#check for prismatic joints\u001b[39;00m\n\u001b[1;32m     <a href='vscode-notebook-cell:/home/flavio/Code/uni/robotics-project/src/tests.ipynb#X23sZmlsZQ%3D%3D?line=27'>28</a>\u001b[0m I[i,:,:] \u001b[39m=\u001b[39m np\u001b[39m.\u001b[39mdiag([Ixx[i],Iyy[i],Izz[i]]) \u001b[39m#diagonal inertias\u001b[39;00m\n\u001b[0;32m---> <a href='vscode-notebook-cell:/home/flavio/Code/uni/robotics-project/src/tests.ipynb#X23sZmlsZQ%3D%3D?line=28'>29</a>\u001b[0m A \u001b[39m=\u001b[39m robot[i]\u001b[39m.\u001b[39mA(q[i]); A[A \u001b[39m==\u001b[39m \u001b[39m0\u001b[39m] \u001b[39m=\u001b[39m sym\u001b[39m.\u001b[39mzero()\n\u001b[1;32m     <a href='vscode-notebook-cell:/home/flavio/Code/uni/robotics-project/src/tests.ipynb#X23sZmlsZQ%3D%3D?line=29'>30</a>\u001b[0m ri[i,:] \u001b[39m=\u001b[39m A\u001b[39m.\u001b[39mt \u001b[39m#homogeneus from frame i to i+1\u001b[39;00m\n\u001b[1;32m     <a href='vscode-notebook-cell:/home/flavio/Code/uni/robotics-project/src/tests.ipynb#X23sZmlsZQ%3D%3D?line=30'>31</a>\u001b[0m Ainv \u001b[39m=\u001b[39m A\u001b[39m.\u001b[39minv(); Rinv[i,:,:] \u001b[39m=\u001b[39m Ainv\u001b[39m.\u001b[39mR; riim1 \u001b[39m=\u001b[39m Ainv\u001b[39m.\u001b[39mt\n",
      "File \u001b[0;32m~/.local/lib/python3.10/site-packages/spatialmath/baseposelist.py:357\u001b[0m, in \u001b[0;36mBasePoseList.__setitem__\u001b[0;34m(self, i, value)\u001b[0m\n\u001b[1;32m    336\u001b[0m \u001b[39m\"\"\"\u001b[39;00m\n\u001b[1;32m    337\u001b[0m \u001b[39mAssign a value to an instance (BasePoseList superclass method)\u001b[39;00m\n\u001b[1;32m    338\u001b[0m \n\u001b[0;32m   (...)\u001b[0m\n\u001b[1;32m    354\u001b[0m \n\u001b[1;32m    355\u001b[0m \u001b[39m\"\"\"\u001b[39;00m\n\u001b[1;32m    356\u001b[0m \u001b[39mif\u001b[39;00m \u001b[39mnot\u001b[39;00m \u001b[39mtype\u001b[39m(\u001b[39mself\u001b[39m) \u001b[39m==\u001b[39m \u001b[39mtype\u001b[39m(value):\n\u001b[0;32m--> 357\u001b[0m     \u001b[39mraise\u001b[39;00m \u001b[39mValueError\u001b[39;00m(\u001b[39m\"\u001b[39m\u001b[39mcan\u001b[39m\u001b[39m'\u001b[39m\u001b[39mt insert different type of object\u001b[39m\u001b[39m\"\u001b[39m)\n\u001b[1;32m    358\u001b[0m \u001b[39mif\u001b[39;00m \u001b[39mlen\u001b[39m(value) \u001b[39m>\u001b[39m \u001b[39m1\u001b[39m:\n\u001b[1;32m    359\u001b[0m     \u001b[39mraise\u001b[39;00m \u001b[39mValueError\u001b[39;00m(\n\u001b[1;32m    360\u001b[0m         \u001b[39m\"\u001b[39m\u001b[39mcan\u001b[39m\u001b[39m'\u001b[39m\u001b[39mt insert a multivalued element - must have len() == 1\u001b[39m\u001b[39m\"\u001b[39m\n\u001b[1;32m    361\u001b[0m     )\n",
      "\u001b[0;31mValueError\u001b[0m: can't insert different type of object"
     ]
    }
   ],
   "source": [
    "import sympy as sym\n",
    "import numpy as np\n",
    "from tools.Models import *\n",
    "\n",
    "robot = TwoLink()\n",
    "n = 2\n",
    "q = sym.symbol(f\"q(1:{n+1})\") #link variables\n",
    "a = sym.symbol(f\"a(1:{n+1})\") #link lenghts\n",
    "\n",
    "#dynamic parameters\n",
    "m = sym.symbol(f\"a(1:{n+1})\") #link masses\n",
    "dc = sym.symbol(f\"dc(1:{n+1})\")\n",
    "Ixx = sym.symbol(f\"Ixx(1:{n+1})\")\n",
    "Iyy = sym.symbol(f\"Iyy(1:{n+1})\")\n",
    "Izz = sym.symbol(f\"Izz(1:{n+1})\") \n",
    "\n",
    "I = np.zeros((n,3,3),dtype=object) #tensor with ith matrix representing inertia matrix of ith COM\n",
    "ri = np.full((n, 3), sym.zero(), dtype = object) #n vectors from RF i-1 to i wrt RF i-1\n",
    "print(type(ri[0,2]))\n",
    "rc = np.zeros((n,3),dtype=object) #n position vectors of COM i seen from RF i\n",
    "rim1c = np.zeros((n,3),dtype=object) #n vectors from RF i-1 to COM as seen from RF i\n",
    "riim1 = np.zeros((n,3),dtype=object) #n vectors from RF i to RF i-1 as seen from RF i\n",
    "Rinv = np.zeros((n,3,3),dtype=object) #tensor with ith matrix representing rotation from Rf i to Rf i-1\n",
    "   \n",
    "# for i in range(n):\n",
    "i = 0\n",
    "sigma = robot.links[i].isprismatic #check for prismatic joints\n",
    "I[i,:,:] = np.diag([Ixx[i],Iyy[i],Izz[i]]) #diagonal inertias\n",
    "A = robot[i].A(q[i]); \n",
    "ri[i,:] = A.t #homogeneus from frame i to i+1\n",
    "Ainv = A.inv(); Rinv[i,:,:] = Ainv.R; riim1 = Ainv.t\n",
    "\n",
    "print(type(ri[0,2]))\n",
    "print([elem for elem in ri[i,:]])\n",
    "rim1c = Rinv[i,:,:] @ [elem.subs(a[i],dc[i]) for elem in ri[i,:]]\n",
    "# rc[i,:] = riim1 + rim1c\n",
    "    "
   ]
  }
 ],
 "metadata": {
  "kernelspec": {
   "display_name": "base",
   "language": "python",
   "name": "python3"
  },
  "language_info": {
   "codemirror_mode": {
    "name": "ipython",
    "version": 3
   },
   "file_extension": ".py",
   "mimetype": "text/x-python",
   "name": "python",
   "nbconvert_exporter": "python",
   "pygments_lexer": "ipython3",
   "version": "3.10.12"
  },
  "orig_nbformat": 4
 },
 "nbformat": 4,
 "nbformat_minor": 2
}
