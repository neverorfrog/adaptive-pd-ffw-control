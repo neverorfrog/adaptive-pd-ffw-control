{
 "cells": [
  {
   "cell_type": "code",
   "execution_count": null,
   "metadata": {},
   "outputs": [],
   "source": [
    "import numpy as np\n",
    "import matplotlib.pyplot as plt\n",
    "\n",
    "\n",
    "def f(t):\n",
    "    return np.exp(-t) * np.cos(2*np.pi*t)\n",
    "\n",
    "\n",
    "t1 = np.arange(0.0, 5.0, 0.1)\n",
    "t2 = np.arange(0.0, 5.0, 0.02)\n",
    "\n",
    "\n",
    "fig,axs = plt.subplots(2,1)\n",
    "axs[0].plot(t1, f(t1), color='tab:blue', marker='o')\n",
    "axs[0].plot(t2, f(t2), color='black')\n",
    "axs[1].plot(t2, np.cos(2*np.pi*t2), color='tab:orange', linestyle='--')"
   ]
  },
  {
   "cell_type": "code",
   "execution_count": null,
   "metadata": {},
   "outputs": [],
   "source": [
    "from tools.Models import TwoLink\n",
    "robot = TwoLink()\n",
    "currentPose = robot.fkine(robot.q)\n",
    "print(currentPose)\n",
    "currentPose.t[0:2]"
   ]
  },
  {
   "cell_type": "code",
   "execution_count": null,
   "metadata": {},
   "outputs": [],
   "source": [
    "import numpy as np\n",
    "t = []\n",
    "t.append([0,1])\n",
    "t.append([2,3])\n",
    "print(t)\n",
    "t = np.array(t)\n",
    "t[:,0]"
   ]
  },
  {
   "cell_type": "code",
   "execution_count": null,
   "metadata": {},
   "outputs": [],
   "source": [
    "import numpy as np\n",
    "l = [[2,3],[3,4],[4,5]]\n",
    "\n",
    "np.array(l)"
   ]
  },
  {
   "cell_type": "code",
   "execution_count": 3,
   "metadata": {},
   "outputs": [
    {
     "ename": "TypeError",
     "evalue": "EulerLagrange.getrealM() missing 1 required positional argument: 'pi'",
     "output_type": "error",
     "traceback": [
      "\u001b[0;31m---------------------------------------------------------------------------\u001b[0m",
      "\u001b[0;31mTypeError\u001b[0m                                 Traceback (most recent call last)",
      "Cell \u001b[0;32mIn[3], line 8\u001b[0m\n\u001b[1;32m      6\u001b[0m robot \u001b[39m=\u001b[39m SymbolicPlanarRobot(n)\n\u001b[1;32m      7\u001b[0m model \u001b[39m=\u001b[39m EulerLagrange(robot)\n\u001b[0;32m----> 8\u001b[0m model\u001b[39m.\u001b[39;49mgetrealM()\n",
      "\u001b[0;31mTypeError\u001b[0m: EulerLagrange.getrealM() missing 1 required positional argument: 'pi'"
     ]
    }
   ],
   "source": [
    "from tools.robots import *\n",
    "from tools.dynamics import *\n",
    "import sympy\n",
    "\n",
    "n = 2\n",
    "robot = SymbolicPlanarRobot(n)\n",
    "model = EulerLagrange(robot)\n",
    "model.getrealM()"
   ]
  },
  {
   "cell_type": "code",
   "execution_count": 4,
   "metadata": {},
   "outputs": [
    {
     "data": {
      "text/latex": [
       "$\\displaystyle \\left[\\begin{array}{cccccccccccccccccccc}- 1.0 a_{1} g & - 1.0 g & 0 & 0 & 0 & 0 & 0 & 0 & 0 & 0 & 1.0 a_{1} a_{2} \\cos^{3}{\\left(1 \\right)} + 1.0 a_{1} a_{2} \\sin^{2}{\\left(1 \\right)} \\cos{\\left(1 \\right)} + 1.0 a_{2}^{2} \\cos^{4}{\\left(1 \\right)} + 2.0 a_{2}^{2} \\sin^{2}{\\left(1 \\right)} \\cos^{2}{\\left(1 \\right)} + 1.0 a_{2}^{2} \\sin^{4}{\\left(1 \\right)} - g \\left(1.0 a_{1} + 1.0 a_{2} \\cos{\\left(1 \\right)}\\right) & 1.0 a_{1} \\cos{\\left(1 \\right)} + 2.0 a_{2} \\cos^{2}{\\left(1 \\right)} + 2.0 a_{2} \\sin^{2}{\\left(1 \\right)} - 1.0 g \\cos{\\left(1 \\right)} & - 1.0 a_{1} \\sin{\\left(1 \\right)} + 1.0 g \\sin{\\left(1 \\right)} & 0 & 0 & 0 & 0 & 0 & 0 & 1.0\\\\0 & 0 & 0 & 0 & 0 & 0 & 0 & 0 & 0 & 0 & 1.0 a_{2}^{2} \\cos^{4}{\\left(1 \\right)} + 2.0 a_{2}^{2} \\sin^{2}{\\left(1 \\right)} \\cos^{2}{\\left(1 \\right)} + 1.0 a_{2}^{2} \\sin^{4}{\\left(1 \\right)} - 1.0 a_{2} g \\cos{\\left(1 \\right)} & 2.0 a_{2} \\cos^{2}{\\left(1 \\right)} + 2.0 a_{2} \\sin^{2}{\\left(1 \\right)} - 1.0 g \\cos{\\left(1 \\right)} & 1.0 g \\sin{\\left(1 \\right)} & 0 & 0 & 0 & 0 & 0 & 0 & 1.0\\end{array}\\right]$"
      ],
      "text/plain": [
       "Matrix([\n",
       "[-1.0*a1*g, -1.0*g, 0, 0, 0, 0, 0, 0, 0, 0, 1.0*a1*a2*cos(1)**3 + 1.0*a1*a2*sin(1)**2*cos(1) + 1.0*a2**2*cos(1)**4 + 2.0*a2**2*sin(1)**2*cos(1)**2 + 1.0*a2**2*sin(1)**4 - g*(1.0*a1 + 1.0*a2*cos(1)), 1.0*a1*cos(1) + 2.0*a2*cos(1)**2 + 2.0*a2*sin(1)**2 - 1.0*g*cos(1), -1.0*a1*sin(1) + 1.0*g*sin(1), 0, 0, 0, 0, 0, 0, 1.0],\n",
       "[        0,      0, 0, 0, 0, 0, 0, 0, 0, 0,                                                               1.0*a2**2*cos(1)**4 + 2.0*a2**2*sin(1)**2*cos(1)**2 + 1.0*a2**2*sin(1)**4 - 1.0*a2*g*cos(1),                 2.0*a2*cos(1)**2 + 2.0*a2*sin(1)**2 - 1.0*g*cos(1),                  1.0*g*sin(1), 0, 0, 0, 0, 0, 0, 1.0]])"
      ]
     },
     "execution_count": 4,
     "metadata": {},
     "output_type": "execute_result"
    }
   ],
   "source": [
    "q = [0,1]\n",
    "qd = [0,1]\n",
    "qdd = [0,1]\n",
    "Yeval = model.evaluateY(q,qd,qd,qdd)\n",
    "\n",
    "sympy.Matrix(Yeval)"
   ]
  },
  {
   "cell_type": "code",
   "execution_count": null,
   "metadata": {},
   "outputs": [],
   "source": [
    "pi = sym.symbol(f\"pi_(1:{10*n+1})\")\n",
    "symM = sympy.Matrix(model.M)\n",
    "\n",
    "# dynamic parameters\n",
    "m = sym.symbol(f\"m(1:{n+1})\")  # link masses\n",
    "dc = sym.symbol(f\"dc(1:{n+1})\")\n",
    "Ixx = sym.symbol(f\"Ixx(1:{n+1})\")\n",
    "Iyy = sym.symbol(f\"Iyy(1:{n+1})\")\n",
    "Izz = sym.symbol(f\"Izz(1:{n+1})\")\n",
    "\n",
    "# dynamic parameters\n",
    "\n",
    "for i in range(n):\n",
    "    shift = i*10\n",
    "\n",
    "    symM = symM.subs(dc[i]*m[i], pi[shift+1])\n",
    "\n",
    "    symM = symM.subs(m[i], pi[shift])\n",
    "\n",
    "    symM = symM.subs(Ixx[i], pi[shift+4])\n",
    "    symM = symM.subs(Iyy[i], pi[shift+7])\n",
    "    symM = symM.subs(Izz[i], pi[shift+9])\n",
    "\n",
    "symM"
   ]
  },
  {
   "cell_type": "code",
   "execution_count": null,
   "metadata": {},
   "outputs": [],
   "source": [
    "pi = sym.symbol(f\"pi_(1:{10*n+1})\")\n",
    "\n",
    "# dynamic parameters\n",
    "m = sym.symbol(f\"m(1:{n+1})\")  # link masses\n",
    "dc = sym.symbol(f\"dc(1:{n+1})\")\n",
    "Ixx = sym.symbol(f\"Ixx(1:{n+1})\")\n",
    "Iyy = sym.symbol(f\"Iyy(1:{n+1})\")\n",
    "Izz = sym.symbol(f\"Izz(1:{n+1})\")\n",
    "\n",
    "# dynamic parameters\n",
    "\n",
    "for i in range(n):\n",
    "    shift = i*10\n",
    "\n",
    "    irci = model.rc[:,i]\n",
    "    Ici = np.diag([Ixx[i],Iyy[i],Izz[i]])\n",
    "\n",
    "    sk_irci = np.array([[0, -irci[2], irci[1]], \n",
    "                     [irci[2], 0, -irci[0]], \n",
    "                     [-irci[1], irci[0], 0]])\n",
    "    \n",
    "    I = Ici + m[i]*sk_irci.T@sk_irci\n",
    "\n",
    "    symModel = symModel.subs(I[0,0], pi[shift+4])\n",
    "    symModel = symModel.subs(I[1,1], pi[shift+7])\n",
    "    symModel = symModel.subs(I[2,2], pi[shift+9])\n",
    "\n",
    "    symModel = symModel.subs(irci[0]*m[i], pi[shift+1])\n",
    "\n",
    "    symModel = symModel.subs(m[i], pi[shift])\n",
    "symModel"
   ]
  },
  {
   "cell_type": "code",
   "execution_count": 1,
   "metadata": {},
   "outputs": [],
   "source": [
    "from tools.robots import *\n",
    "from tools.dynamics import *\n",
    "from control.adaptive_control import *\n",
    "import sympy\n",
    "\n",
    "n = 2\n",
    "robot = TwoLink()\n",
    "env = PyPlot()\n",
    "goal = [pi/2,pi/2]\n",
    "\n",
    "T = 3\n",
    "traj = ClippedTrajectory(robot.q, goal, T)\n",
    "\n",
    "symrobot = SymbolicPlanarRobot(n)\n",
    "model = EulerLagrange(symrobot, robot)"
   ]
  }
 ],
 "metadata": {
  "kernelspec": {
   "display_name": "base",
   "language": "python",
   "name": "python3"
  },
  "language_info": {
   "codemirror_mode": {
    "name": "ipython",
    "version": 3
   },
   "file_extension": ".py",
   "mimetype": "text/x-python",
   "name": "python",
   "nbconvert_exporter": "python",
   "pygments_lexer": "ipython3",
   "version": "3.10.12"
  },
  "orig_nbformat": 4
 },
 "nbformat": 4,
 "nbformat_minor": 2
}
