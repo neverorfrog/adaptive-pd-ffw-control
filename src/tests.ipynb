{
 "cells": [
  {
   "cell_type": "code",
   "execution_count": null,
   "metadata": {},
   "outputs": [],
   "source": [
    "from tools.Models import TwoLink\n",
    "from math import pi\n",
    "import spatialgeometry as sg\n",
    "\n",
    "robot = TwoLink()\n",
    "# robot.q = [pi/4, 0]\n",
    "fr = robot.fkine(robot.q)\n",
    "print(fr)\n",
    "J = robot.jacob0(robot.q)\n",
    "print(J)\n",
    "\n",
    "axes = sg.Axes(0.5)\n",
    "print(axes)"
   ]
  },
  {
   "cell_type": "code",
   "execution_count": null,
   "metadata": {},
   "outputs": [],
   "source": [
    "import numpy as np\n",
    "import matplotlib.pyplot as plt\n",
    "\n",
    "\n",
    "def f(t):\n",
    "    return np.exp(-t) * np.cos(2*np.pi*t)\n",
    "\n",
    "\n",
    "t1 = np.arange(0.0, 5.0, 0.1)\n",
    "t2 = np.arange(0.0, 5.0, 0.02)\n",
    "\n",
    "\n",
    "fig,axs = plt.subplots(2,1)\n",
    "axs[0].plot(t1, f(t1), color='tab:blue', marker='o')\n",
    "axs[0].plot(t2, f(t2), color='black')\n",
    "axs[1].plot(t2, np.cos(2*np.pi*t2), color='tab:orange', linestyle='--')"
   ]
  },
  {
   "cell_type": "code",
   "execution_count": null,
   "metadata": {},
   "outputs": [],
   "source": [
    "from tools.Models import TwoLink\n",
    "robot = TwoLink()\n",
    "currentPose = robot.fkine(robot.q)\n",
    "print(currentPose)\n",
    "currentPose.t[0:2]"
   ]
  },
  {
   "cell_type": "code",
   "execution_count": null,
   "metadata": {},
   "outputs": [],
   "source": [
    "import numpy as np\n",
    "t = []\n",
    "t.append([0,1])\n",
    "t.append([2,3])\n",
    "print(t)\n",
    "t = np.array(t)\n",
    "t[:,0]"
   ]
  },
  {
   "cell_type": "code",
   "execution_count": null,
   "metadata": {},
   "outputs": [],
   "source": [
    "\n",
    "import numpy as np\n",
    "l = [[2,3],[3,4],[4,5]]\n",
    "\n",
    "np.array(l)"
   ]
  },
  {
   "cell_type": "code",
   "execution_count": null,
   "metadata": {},
   "outputs": [],
   "source": [
    "import numpy as np\n",
    "from tools.Models import TwoLink, UncertantTwoLink\n",
    "TwoLink()"
   ]
  },
  {
   "cell_type": "code",
   "execution_count": null,
   "metadata": {},
   "outputs": [],
   "source": [
    "from tools.Control import Control\n",
    "from roboticstoolbox.backends.PyPlot import PyPlot\n",
    "from math import pi\n",
    "from roboticstoolbox.tools.trajectory import *\n",
    "from tools.Utils import *\n",
    "from control.trajectory_control import *\n",
    "\n",
    "brobot = UncertantTwoLink()\n",
    "robot = TwoLink()\n",
    "env = PyPlot()\n",
    "goal = [pi/8,0]\n",
    "\n",
    "T = 2\n",
    "traj_fun = [quintic_func(robot.q[i], goal[i],T) for i in range(robot.n)]\n",
    "\n",
    "traj = ClippedTrajectory(traj_fun, T)\n",
    "loop = FBL(robot, env, [0,-9.81,0])\n",
    "\n",
    "loop.setR(reference = traj, goal = goal, threshold = 0.1)\n",
    "loop.setK(kp = [16,8], kd = [4,2])\n",
    "\n",
    "q_d, qd_d, qdd_d = loop.reference(2, 1)"
   ]
  },
  {
   "cell_type": "code",
   "execution_count": null,
   "metadata": {},
   "outputs": [],
   "source": [
    "import numpy as np\n",
    "ref = np.array([1,1,2])#.reshape(3,1)\n",
    "pos = np.array([1.04,1.04,2.04])#.reshape(3,1)\n",
    "th = 0.05\n",
    "\n",
    "pos.dot(ref)\n",
    "\n",
    "e = ref.T - pos.T\n",
    "e\n",
    "\n",
    "go = (e < th)[False].shape[0]\n",
    "go"
   ]
  },
  {
   "cell_type": "code",
   "execution_count": null,
   "metadata": {},
   "outputs": [],
   "source": [
    "from tools.Models import *\n",
    "from math import pi\n",
    "robot = OneLink()\n",
    "q = pi/2\n",
    "print(robot.inertia(q))\n",
    "robot.gravload(q, gravity = [0,-9.81, 0])"
   ]
  },
  {
   "cell_type": "code",
   "execution_count": 5,
   "metadata": {},
   "outputs": [
    {
     "ename": "AttributeError",
     "evalue": "'int' object has no attribute 'subs'",
     "output_type": "error",
     "traceback": [
      "\u001b[0;31m---------------------------------------------------------------------------\u001b[0m",
      "\u001b[0;31mAttributeError\u001b[0m                            Traceback (most recent call last)",
      "Cell \u001b[0;32mIn[5], line 5\u001b[0m\n\u001b[1;32m      3\u001b[0m n \u001b[39m=\u001b[39m \u001b[39m2\u001b[39m\n\u001b[1;32m      4\u001b[0m robot \u001b[39m=\u001b[39m TwoLink()\n\u001b[0;32m----> 5\u001b[0m model \u001b[39m=\u001b[39m EulerLagrange(n, robot \u001b[39m=\u001b[39;49m robot)\n\u001b[1;32m      6\u001b[0m sympy\u001b[39m.\u001b[39mMatrix(model\u001b[39m.\u001b[39mM)\n",
      "File \u001b[0;32m~/Uni/Robotics2/adaptive-pd-ffw-control/src/tools/Models.py:62\u001b[0m, in \u001b[0;36mEulerLagrange.__init__\u001b[0;34m(self, n, robot)\u001b[0m\n\u001b[1;32m     60\u001b[0m \u001b[39m#COM Position\u001b[39;00m\n\u001b[1;32m     61\u001b[0m \u001b[39mif\u001b[39;00m sigma \u001b[39m==\u001b[39m \u001b[39m0\u001b[39m:\n\u001b[0;32m---> 62\u001b[0m     rim1c \u001b[39m=\u001b[39m Rinv \u001b[39m@\u001b[39m [elem\u001b[39m.\u001b[39msubs(a[i],dc[i]) \u001b[39mfor\u001b[39;00m elem \u001b[39min\u001b[39;00m ri]\n\u001b[1;32m     63\u001b[0m     rc \u001b[39m=\u001b[39m riim1 \u001b[39m+\u001b[39m rim1c\n\u001b[1;32m     64\u001b[0m \u001b[39melse\u001b[39;00m:\n",
      "File \u001b[0;32m~/Uni/Robotics2/adaptive-pd-ffw-control/src/tools/Models.py:62\u001b[0m, in \u001b[0;36m<listcomp>\u001b[0;34m(.0)\u001b[0m\n\u001b[1;32m     60\u001b[0m \u001b[39m#COM Position\u001b[39;00m\n\u001b[1;32m     61\u001b[0m \u001b[39mif\u001b[39;00m sigma \u001b[39m==\u001b[39m \u001b[39m0\u001b[39m:\n\u001b[0;32m---> 62\u001b[0m     rim1c \u001b[39m=\u001b[39m Rinv \u001b[39m@\u001b[39m [elem\u001b[39m.\u001b[39;49msubs(a[i],dc[i]) \u001b[39mfor\u001b[39;00m elem \u001b[39min\u001b[39;00m ri]\n\u001b[1;32m     63\u001b[0m     rc \u001b[39m=\u001b[39m riim1 \u001b[39m+\u001b[39m rim1c\n\u001b[1;32m     64\u001b[0m \u001b[39melse\u001b[39;00m:\n",
      "\u001b[0;31mAttributeError\u001b[0m: 'int' object has no attribute 'subs'"
     ]
    }
   ],
   "source": [
    "from tools.Models import *\n",
    "\n",
    "n = 2\n",
    "robot = TwoLink()\n",
    "model = EulerLagrange(n, robot = robot)\n",
    "sympy.Matrix(model.M)"
   ]
  },
  {
   "cell_type": "code",
   "execution_count": 38,
   "metadata": {},
   "outputs": [
    {
     "data": {
      "text/latex": [
       "$\\displaystyle \\left[\\begin{matrix}0.5 a_{1}^{2} \\pi_{11} + 0.5 a_{1}^{2} \\pi_{21} + 1.0 a_{1} a_{2} \\pi_{21} \\cos{\\left(q_{2} \\right)} + 1.0 a_{1} \\pi_{12} \\cos{\\left(q_{2} \\right)} + 1.0 a_{1} \\pi_{22} \\cos{\\left(q_{2} + q_{3} \\right)} + 0.5 a_{2}^{2} \\pi_{21} + 1.0 a_{2} \\pi_{22} \\cos{\\left(q_{3} \\right)} + 0.5 dc_{1} \\pi_{2} + 0.5 dc_{2} \\pi_{12} + 0.5 dc_{3} \\pi_{22} + 0.5 \\pi_{10} + 0.5 \\pi_{20} + 0.5 \\pi_{30} & 1.0 a_{1} a_{2} \\pi_{21} \\cos{\\left(q_{2} \\right)} + 1.0 a_{1} \\pi_{12} \\cos{\\left(q_{2} \\right)} + 1.0 a_{1} \\pi_{22} \\cos{\\left(q_{2} + q_{3} \\right)} + 1.0 a_{2}^{2} \\pi_{21} + 2.0 a_{2} \\pi_{22} \\cos{\\left(q_{3} \\right)} + 1.0 dc_{2} \\pi_{12} + 1.0 dc_{3} \\pi_{22} + 1.0 \\pi_{20} + 1.0 \\pi_{30} & 1.0 a_{1} \\pi_{22} \\cos{\\left(q_{2} + q_{3} \\right)} + 1.0 a_{2} \\pi_{22} \\cos{\\left(q_{3} \\right)} + 1.0 dc_{3} \\pi_{22} + 1.0 \\pi_{30}\\\\1.0 a_{1} a_{2} \\pi_{21} \\cos{\\left(q_{2} \\right)} + 1.0 a_{1} \\pi_{12} \\cos{\\left(q_{2} \\right)} + 1.0 a_{1} \\pi_{22} \\cos{\\left(q_{2} + q_{3} \\right)} + 1.0 a_{2}^{2} \\pi_{21} + 2.0 a_{2} \\pi_{22} \\cos{\\left(q_{3} \\right)} + 1.0 dc_{2} \\pi_{12} + 1.0 dc_{3} \\pi_{22} + 1.0 \\pi_{20} + 1.0 \\pi_{30} & 0.5 a_{2}^{2} \\pi_{21} + 1.0 a_{2} \\pi_{22} \\cos{\\left(q_{3} \\right)} + 0.5 dc_{2} \\pi_{12} + 0.5 dc_{3} \\pi_{22} + 0.5 \\pi_{20} + 0.5 \\pi_{30} & 1.0 a_{2} \\pi_{22} \\cos{\\left(q_{3} \\right)} + 1.0 dc_{3} \\pi_{22} + 1.0 \\pi_{30}\\\\1.0 a_{1} \\pi_{22} \\cos{\\left(q_{2} + q_{3} \\right)} + 1.0 a_{2} \\pi_{22} \\cos{\\left(q_{3} \\right)} + 1.0 dc_{3} \\pi_{22} + 1.0 \\pi_{30} & 1.0 a_{2} \\pi_{22} \\cos{\\left(q_{3} \\right)} + 1.0 dc_{3} \\pi_{22} + 1.0 \\pi_{30} & 0.5 dc_{3} \\pi_{22} + 0.5 \\pi_{30}\\end{matrix}\\right]$"
      ],
      "text/plain": [
       "Matrix([\n",
       "[0.5*a1**2*pi_11 + 0.5*a1**2*pi_21 + 1.0*a1*a2*pi_21*cos(q2) + 1.0*a1*pi_12*cos(q2) + 1.0*a1*pi_22*cos(q2 + q3) + 0.5*a2**2*pi_21 + 1.0*a2*pi_22*cos(q3) + 0.5*dc1*pi_2 + 0.5*dc2*pi_12 + 0.5*dc3*pi_22 + 0.5*pi_10 + 0.5*pi_20 + 0.5*pi_30, 1.0*a1*a2*pi_21*cos(q2) + 1.0*a1*pi_12*cos(q2) + 1.0*a1*pi_22*cos(q2 + q3) + 1.0*a2**2*pi_21 + 2.0*a2*pi_22*cos(q3) + 1.0*dc2*pi_12 + 1.0*dc3*pi_22 + 1.0*pi_20 + 1.0*pi_30, 1.0*a1*pi_22*cos(q2 + q3) + 1.0*a2*pi_22*cos(q3) + 1.0*dc3*pi_22 + 1.0*pi_30],\n",
       "[                                                               1.0*a1*a2*pi_21*cos(q2) + 1.0*a1*pi_12*cos(q2) + 1.0*a1*pi_22*cos(q2 + q3) + 1.0*a2**2*pi_21 + 2.0*a2*pi_22*cos(q3) + 1.0*dc2*pi_12 + 1.0*dc3*pi_22 + 1.0*pi_20 + 1.0*pi_30,                                                                              0.5*a2**2*pi_21 + 1.0*a2*pi_22*cos(q3) + 0.5*dc2*pi_12 + 0.5*dc3*pi_22 + 0.5*pi_20 + 0.5*pi_30,                             1.0*a2*pi_22*cos(q3) + 1.0*dc3*pi_22 + 1.0*pi_30],\n",
       "[                                                                                                                                                              1.0*a1*pi_22*cos(q2 + q3) + 1.0*a2*pi_22*cos(q3) + 1.0*dc3*pi_22 + 1.0*pi_30,                                                                                                                            1.0*a2*pi_22*cos(q3) + 1.0*dc3*pi_22 + 1.0*pi_30,                                                    0.5*dc3*pi_22 + 0.5*pi_30]])"
      ]
     },
     "execution_count": 38,
     "metadata": {},
     "output_type": "execute_result"
    }
   ],
   "source": [
    "pi = sym.symbol(f\"pi_(1:{10*n+1})\")\n",
    "symM = sympy.Matrix(model.M)\n",
    "\n",
    "# dynamic parameters\n",
    "m = sym.symbol(f\"m(1:{n+1})\")  # link masses\n",
    "dc = sym.symbol(f\"dc(1:{n+1})\")\n",
    "Ixx = sym.symbol(f\"Ixx(1:{n+1})\")\n",
    "Iyy = sym.symbol(f\"Iyy(1:{n+1})\")\n",
    "Izz = sym.symbol(f\"Izz(1:{n+1})\")\n",
    "\n",
    "# dynamic parameters\n",
    "\n",
    "for i in range(n):\n",
    "    shift = i*10\n",
    "\n",
    "    symM = symM.subs(dc[i]*m[i], pi[shift+1])\n",
    "\n",
    "    symM = symM.subs(m[i], pi[shift])\n",
    "\n",
    "    symM = symM.subs(Ixx[i], pi[shift+4])\n",
    "    symM = symM.subs(Iyy[i], pi[shift+7])\n",
    "    symM = symM.subs(Izz[i], pi[shift+9])\n",
    "\n",
    "symM"
   ]
  },
  {
   "cell_type": "code",
   "execution_count": 3,
   "metadata": {},
   "outputs": [
    {
     "data": {
      "text/latex": [
       "$\\displaystyle \\left[\\begin{matrix}a_{1} g \\pi_{1} \\cos{\\left(q_{1} \\right)} - 1.0 a_{1} q_{dot 2} \\left(q_{dot 1} + q_{dot 2}\\right) \\left(a_{2} \\pi_{11} \\sin{\\left(q_{2} \\right)} + \\pi_{12} \\sin{\\left(q_{2} \\right)} + \\pi_{13} \\cos{\\left(q_{2} \\right)}\\right) - 1.0 g \\left(- \\pi_{12} \\cos{\\left(q_{1} + q_{2} \\right)} + \\pi_{13} \\sin{\\left(q_{1} + q_{2} \\right)}\\right) + 1.0 g \\left(\\pi_{2} \\cos{\\left(q_{1} \\right)} - \\pi_{3} \\sin{\\left(q_{1} \\right)}\\right) + q_{dot dot 1} \\cdot \\left(0.5 a_{1}^{2} \\pi_{1} + 0.5 a_{1}^{2} \\pi_{11} + 1.0 a_{1} a_{2} \\pi_{11} \\cos{\\left(q_{2} \\right)} + 1.0 a_{1} \\pi_{12} \\cos{\\left(q_{2} \\right)} - 1.0 a_{1} \\pi_{13} \\sin{\\left(q_{2} \\right)} + 1.0 a_{1} \\pi_{2} + 0.5 a_{2}^{2} \\pi_{11} + 1.0 a_{2} \\pi_{12} + 0.5 \\pi_{10} + 0.5 \\pi_{20}\\right) & 0.5 a_{1} q_{dot 1}^{2} \\left(a_{2} \\pi_{11} \\sin{\\left(q_{2} \\right)} + \\pi_{12} \\sin{\\left(q_{2} \\right)} + \\pi_{13} \\cos{\\left(q_{2} \\right)}\\right) + a_{2} g \\pi_{11} \\cos{\\left(q_{2} \\right)} - 1.0 g \\left(- \\pi_{12} \\cos{\\left(q_{1} + q_{2} \\right)} + \\pi_{13} \\sin{\\left(q_{1} + q_{2} \\right)}\\right) + q_{dot dot 2} \\cdot \\left(1.0 a_{1} a_{2} \\pi_{11} \\cos{\\left(q_{2} \\right)} + 1.0 a_{1} \\pi_{12} \\cos{\\left(q_{2} \\right)} - 1.0 a_{1} \\pi_{13} \\sin{\\left(q_{2} \\right)} + 1.0 a_{2}^{2} \\pi_{11} + 2.0 a_{2} \\pi_{12} + 1.0 \\pi_{20}\\right)\\\\a_{1} g \\pi_{1} \\cos{\\left(q_{1} \\right)} - 1.0 a_{1} q_{dot 2} \\left(q_{dot 1} + q_{dot 2}\\right) \\left(a_{2} \\pi_{11} \\sin{\\left(q_{2} \\right)} + \\pi_{12} \\sin{\\left(q_{2} \\right)} + \\pi_{13} \\cos{\\left(q_{2} \\right)}\\right) - 1.0 g \\left(- \\pi_{12} \\cos{\\left(q_{1} + q_{2} \\right)} + \\pi_{13} \\sin{\\left(q_{1} + q_{2} \\right)}\\right) + 1.0 g \\left(\\pi_{2} \\cos{\\left(q_{1} \\right)} - \\pi_{3} \\sin{\\left(q_{1} \\right)}\\right) + q_{dot dot 1} \\cdot \\left(1.0 a_{1} a_{2} \\pi_{11} \\cos{\\left(q_{2} \\right)} + 1.0 a_{1} \\pi_{12} \\cos{\\left(q_{2} \\right)} - 1.0 a_{1} \\pi_{13} \\sin{\\left(q_{2} \\right)} + 1.0 a_{2}^{2} \\pi_{11} + 2.0 a_{2} \\pi_{12} + 1.0 \\pi_{20}\\right) & 0.5 a_{1} q_{dot 1}^{2} \\left(a_{2} \\pi_{11} \\sin{\\left(q_{2} \\right)} + \\pi_{12} \\sin{\\left(q_{2} \\right)} + \\pi_{13} \\cos{\\left(q_{2} \\right)}\\right) + a_{2} g \\pi_{11} \\cos{\\left(q_{2} \\right)} - 1.0 g \\left(- \\pi_{12} \\cos{\\left(q_{1} + q_{2} \\right)} + \\pi_{13} \\sin{\\left(q_{1} + q_{2} \\right)}\\right) + q_{dot dot 2} \\cdot \\left(0.5 a_{2}^{2} \\pi_{11} + 1.0 a_{2} \\pi_{12} + 0.5 \\pi_{20}\\right)\\end{matrix}\\right]$"
      ],
      "text/plain": [
       "Matrix([\n",
       "[a1*g*pi_1*cos(q1) - 1.0*a1*q_dot_2*(q_dot_1 + q_dot_2)*(a2*pi_11*sin(q2) + pi_12*sin(q2) + pi_13*cos(q2)) - 1.0*g*(-pi_12*cos(q1 + q2) + pi_13*sin(q1 + q2)) + 1.0*g*(pi_2*cos(q1) - pi_3*sin(q1)) + q_dot_dot_1*(0.5*a1**2*pi_1 + 0.5*a1**2*pi_11 + 1.0*a1*a2*pi_11*cos(q2) + 1.0*a1*pi_12*cos(q2) - 1.0*a1*pi_13*sin(q2) + 1.0*a1*pi_2 + 0.5*a2**2*pi_11 + 1.0*a2*pi_12 + 0.5*pi_10 + 0.5*pi_20), 0.5*a1*q_dot_1**2*(a2*pi_11*sin(q2) + pi_12*sin(q2) + pi_13*cos(q2)) + a2*g*pi_11*cos(q2) - 1.0*g*(-pi_12*cos(q1 + q2) + pi_13*sin(q1 + q2)) + q_dot_dot_2*(1.0*a1*a2*pi_11*cos(q2) + 1.0*a1*pi_12*cos(q2) - 1.0*a1*pi_13*sin(q2) + 1.0*a2**2*pi_11 + 2.0*a2*pi_12 + 1.0*pi_20)],\n",
       "[                                                             a1*g*pi_1*cos(q1) - 1.0*a1*q_dot_2*(q_dot_1 + q_dot_2)*(a2*pi_11*sin(q2) + pi_12*sin(q2) + pi_13*cos(q2)) - 1.0*g*(-pi_12*cos(q1 + q2) + pi_13*sin(q1 + q2)) + 1.0*g*(pi_2*cos(q1) - pi_3*sin(q1)) + q_dot_dot_1*(1.0*a1*a2*pi_11*cos(q2) + 1.0*a1*pi_12*cos(q2) - 1.0*a1*pi_13*sin(q2) + 1.0*a2**2*pi_11 + 2.0*a2*pi_12 + 1.0*pi_20),                                                                         0.5*a1*q_dot_1**2*(a2*pi_11*sin(q2) + pi_12*sin(q2) + pi_13*cos(q2)) + a2*g*pi_11*cos(q2) - 1.0*g*(-pi_12*cos(q1 + q2) + pi_13*sin(q1 + q2)) + q_dot_dot_2*(0.5*a2**2*pi_11 + 1.0*a2*pi_12 + 0.5*pi_20)]])"
      ]
     },
     "execution_count": 3,
     "metadata": {},
     "output_type": "execute_result"
    }
   ],
   "source": [
    "symModel = sympy.Matrix(sym.simplify(model.getDynamicModel()))\n",
    "symModel"
   ]
  },
  {
   "cell_type": "code",
   "execution_count": 2,
   "metadata": {},
   "outputs": [
    {
     "ename": "NameError",
     "evalue": "name 'sym' is not defined",
     "output_type": "error",
     "traceback": [
      "\u001b[0;31m---------------------------------------------------------------------------\u001b[0m",
      "\u001b[0;31mNameError\u001b[0m                                 Traceback (most recent call last)",
      "Cell \u001b[0;32mIn[2], line 1\u001b[0m\n\u001b[0;32m----> 1\u001b[0m pi \u001b[39m=\u001b[39m sym\u001b[39m.\u001b[39msymbol(\u001b[39mf\u001b[39m\u001b[39m\"\u001b[39m\u001b[39mpi_(1:\u001b[39m\u001b[39m{\u001b[39;00m\u001b[39m10\u001b[39m\u001b[39m*\u001b[39mn\u001b[39m+\u001b[39m\u001b[39m1\u001b[39m\u001b[39m}\u001b[39;00m\u001b[39m)\u001b[39m\u001b[39m\"\u001b[39m)\n\u001b[1;32m      3\u001b[0m \u001b[39m# dynamic parameters\u001b[39;00m\n\u001b[1;32m      4\u001b[0m m \u001b[39m=\u001b[39m sym\u001b[39m.\u001b[39msymbol(\u001b[39mf\u001b[39m\u001b[39m\"\u001b[39m\u001b[39mm(1:\u001b[39m\u001b[39m{\u001b[39;00mn\u001b[39m+\u001b[39m\u001b[39m1\u001b[39m\u001b[39m}\u001b[39;00m\u001b[39m)\u001b[39m\u001b[39m\"\u001b[39m)  \u001b[39m# link masses\u001b[39;00m\n",
      "\u001b[0;31mNameError\u001b[0m: name 'sym' is not defined"
     ]
    }
   ],
   "source": [
    "pi = sym.symbol(f\"pi_(1:{10*n+1})\")\n",
    "\n",
    "# dynamic parameters\n",
    "m = sym.symbol(f\"m(1:{n+1})\")  # link masses\n",
    "dc = sym.symbol(f\"dc(1:{n+1})\")\n",
    "Ixx = sym.symbol(f\"Ixx(1:{n+1})\")\n",
    "Iyy = sym.symbol(f\"Iyy(1:{n+1})\")\n",
    "Izz = sym.symbol(f\"Izz(1:{n+1})\")\n",
    "\n",
    "# dynamic parameters\n",
    "\n",
    "for i in range(n):\n",
    "    shift = i*10\n",
    "\n",
    "    irci = model.rc[:,i]\n",
    "    Ici = np.diag([Ixx[i],Iyy[i],Izz[i]])\n",
    "\n",
    "    sk_irci = np.array([[0, -irci[2], irci[1]], \n",
    "                     [irci[2], 0, -irci[0]], \n",
    "                     [-irci[1], irci[0], 0]])\n",
    "    \n",
    "    I = Ici + m[i]*sk_irci.T@sk_irci\n",
    "\n",
    "    symModel = symModel.subs(I[0,0], pi[shift+4])\n",
    "    symModel = symModel.subs(I[1,1], pi[shift+7])\n",
    "    symModel = symModel.subs(I[2,2], pi[shift+9])\n",
    "\n",
    "    symModel = symModel.subs(irci[0]*m[i], pi[shift+1])\n",
    "\n",
    "    symModel = symModel.subs(m[i], pi[shift])\n",
    "symModel"
   ]
  }
 ],
 "metadata": {
  "kernelspec": {
   "display_name": "base",
   "language": "python",
   "name": "python3"
  },
  "language_info": {
   "codemirror_mode": {
    "name": "ipython",
    "version": 3
   },
   "file_extension": ".py",
   "mimetype": "text/x-python",
   "name": "python",
   "nbconvert_exporter": "python",
   "pygments_lexer": "ipython3",
   "version": "3.10.12"
  },
  "orig_nbformat": 4
 },
 "nbformat": 4,
 "nbformat_minor": 2
}
