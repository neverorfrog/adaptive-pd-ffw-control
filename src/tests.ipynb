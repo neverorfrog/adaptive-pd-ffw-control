{
 "cells": [
  {
   "cell_type": "code",
   "execution_count": null,
   "metadata": {},
   "outputs": [],
   "source": [
    "from tools.Models import TwoLink\n",
    "from math import pi\n",
    "import spatialgeometry as sg\n",
    "\n",
    "robot = TwoLink()\n",
    "# robot.q = [pi/4, 0]\n",
    "fr = robot.fkine(robot.q)\n",
    "print(fr)\n",
    "J = robot.jacob0(robot.q)\n",
    "print(J)\n",
    "\n",
    "axes = sg.Axes(0.5)\n",
    "print(axes)"
   ]
  },
  {
   "cell_type": "code",
   "execution_count": null,
   "metadata": {},
   "outputs": [],
   "source": [
    "import numpy as np\n",
    "import matplotlib.pyplot as plt\n",
    "\n",
    "\n",
    "def f(t):\n",
    "    return np.exp(-t) * np.cos(2*np.pi*t)\n",
    "\n",
    "\n",
    "t1 = np.arange(0.0, 5.0, 0.1)\n",
    "t2 = np.arange(0.0, 5.0, 0.02)\n",
    "\n",
    "\n",
    "fig,axs = plt.subplots(2,1)\n",
    "axs[0].plot(t1, f(t1), color='tab:blue', marker='o')\n",
    "axs[0].plot(t2, f(t2), color='black')\n",
    "axs[1].plot(t2, np.cos(2*np.pi*t2), color='tab:orange', linestyle='--')"
   ]
  },
  {
   "cell_type": "code",
   "execution_count": null,
   "metadata": {},
   "outputs": [],
   "source": [
    "from tools.Models import TwoLink\n",
    "robot = TwoLink()\n",
    "currentPose = robot.fkine(robot.q)\n",
    "print(currentPose)\n",
    "currentPose.t[0:2]"
   ]
  },
  {
   "cell_type": "code",
   "execution_count": null,
   "metadata": {},
   "outputs": [],
   "source": [
    "import numpy as np\n",
    "t = []\n",
    "t.append([0,1])\n",
    "t.append([2,3])\n",
    "print(t)\n",
    "t = np.array(t)\n",
    "t[:,0]"
   ]
  },
  {
   "cell_type": "code",
   "execution_count": null,
   "metadata": {},
   "outputs": [],
   "source": [
    "\n",
    "import numpy as np\n",
    "l = [[2,3],[3,4],[4,5]]\n",
    "\n",
    "np.array(l)"
   ]
  },
  {
   "cell_type": "code",
   "execution_count": null,
   "metadata": {},
   "outputs": [],
   "source": [
    "import numpy as np\n",
    "from tools.Models import TwoLink, UncertantTwoLink\n",
    "TwoLink()"
   ]
  },
  {
   "cell_type": "code",
   "execution_count": null,
   "metadata": {},
   "outputs": [],
   "source": [
    "from tools.Control import Control\n",
    "from roboticstoolbox.backends.PyPlot import PyPlot\n",
    "from math import pi\n",
    "from roboticstoolbox.tools.trajectory import *\n",
    "from tools.Utils import *\n",
    "from control.trajectory_control import *\n",
    "\n",
    "brobot = UncertantTwoLink()\n",
    "robot = TwoLink()\n",
    "env = PyPlot()\n",
    "goal = [pi/8,0]\n",
    "\n",
    "T = 2\n",
    "traj_fun = [quintic_func(robot.q[i], goal[i],T) for i in range(robot.n)]\n",
    "\n",
    "traj = ClippedTrajectory(traj_fun, T)\n",
    "loop = FBL(robot, env, [0,-9.81,0])\n",
    "\n",
    "loop.setR(reference = traj, goal = goal, threshold = 0.1)\n",
    "loop.setK(kp = [16,8], kd = [4,2])\n",
    "\n",
    "q_d, qd_d, qdd_d = loop.reference(2, 1)"
   ]
  },
  {
   "cell_type": "code",
   "execution_count": null,
   "metadata": {},
   "outputs": [],
   "source": [
    "import numpy as np\n",
    "ref = np.array([1,1,2])#.reshape(3,1)\n",
    "pos = np.array([1.04,1.04,2.04])#.reshape(3,1)\n",
    "th = 0.05\n",
    "\n",
    "pos.dot(ref)\n",
    "\n",
    "e = ref.T - pos.T\n",
    "e\n",
    "\n",
    "go = (e < th)[False].shape[0]\n",
    "go"
   ]
  },
  {
   "cell_type": "code",
   "execution_count": null,
   "metadata": {},
   "outputs": [],
   "source": [
    "from tools.Models import *\n",
    "from math import pi\n",
    "robot = OneLink()\n",
    "q = pi/2\n",
    "print(robot.inertia(q))\n",
    "robot.gravload(q, gravity = [0,-9.81, 0])"
   ]
  },
  {
   "cell_type": "code",
   "execution_count": 3,
   "metadata": {},
   "outputs": [
    {
     "name": "stdout",
     "output_type": "stream",
     "text": [
      "(a1, a2, a3)\n"
     ]
    },
    {
     "data": {
      "text/latex": [
       "$\\displaystyle \\left[\\begin{matrix}0.5 Izz_{1} + 0.5 Izz_{2} + 0.5 Izz_{3} + 0.5 a_{1}^{2} m_{2} + 0.5 a_{1}^{2} m_{3} + 1.0 a_{1} a_{2} m_{3} \\cos{\\left(q_{2} \\right)} + 1.0 a_{1} dc_{2} m_{2} \\cos{\\left(q_{2} \\right)} + 1.0 a_{1} dc_{3} m_{3} \\cos{\\left(q_{2} + q_{3} \\right)} + 0.5 a_{2}^{2} m_{3} + 1.0 a_{2} dc_{3} m_{3} \\cos{\\left(q_{3} \\right)} + 0.5 dc_{1}^{2} m_{1} + 0.5 dc_{2}^{2} m_{2} + 0.5 dc_{3}^{2} m_{3} & 1.0 Izz_{2} + 1.0 Izz_{3} + 1.0 a_{1} a_{2} m_{3} \\cos{\\left(q_{2} \\right)} + 1.0 a_{1} dc_{2} m_{2} \\cos{\\left(q_{2} \\right)} + 1.0 a_{1} dc_{3} m_{3} \\cos{\\left(q_{2} + q_{3} \\right)} + 1.0 a_{2}^{2} m_{3} + 2.0 a_{2} dc_{3} m_{3} \\cos{\\left(q_{3} \\right)} + 1.0 dc_{2}^{2} m_{2} + 1.0 dc_{3}^{2} m_{3} & 1.0 Izz_{3} + 1.0 a_{1} dc_{3} m_{3} \\cos{\\left(q_{2} + q_{3} \\right)} + 1.0 a_{2} dc_{3} m_{3} \\cos{\\left(q_{3} \\right)} + 1.0 dc_{3}^{2} m_{3}\\\\1.0 Izz_{2} + 1.0 Izz_{3} + 1.0 a_{1} a_{2} m_{3} \\cos{\\left(q_{2} \\right)} + 1.0 a_{1} dc_{2} m_{2} \\cos{\\left(q_{2} \\right)} + 1.0 a_{1} dc_{3} m_{3} \\cos{\\left(q_{2} + q_{3} \\right)} + 1.0 a_{2}^{2} m_{3} + 2.0 a_{2} dc_{3} m_{3} \\cos{\\left(q_{3} \\right)} + 1.0 dc_{2}^{2} m_{2} + 1.0 dc_{3}^{2} m_{3} & 0.5 Izz_{2} + 0.5 Izz_{3} + 0.5 a_{2}^{2} m_{3} + 1.0 a_{2} dc_{3} m_{3} \\cos{\\left(q_{3} \\right)} + 0.5 dc_{2}^{2} m_{2} + 0.5 dc_{3}^{2} m_{3} & 1.0 Izz_{3} + 1.0 a_{2} dc_{3} m_{3} \\cos{\\left(q_{3} \\right)} + 1.0 dc_{3}^{2} m_{3}\\\\1.0 Izz_{3} + 1.0 a_{1} dc_{3} m_{3} \\cos{\\left(q_{2} + q_{3} \\right)} + 1.0 a_{2} dc_{3} m_{3} \\cos{\\left(q_{3} \\right)} + 1.0 dc_{3}^{2} m_{3} & 1.0 Izz_{3} + 1.0 a_{2} dc_{3} m_{3} \\cos{\\left(q_{3} \\right)} + 1.0 dc_{3}^{2} m_{3} & 0.5 Izz_{3} + 0.5 dc_{3}^{2} m_{3}\\end{matrix}\\right]$"
      ],
      "text/plain": [
       "Matrix([\n",
       "[0.5*Izz1 + 0.5*Izz2 + 0.5*Izz3 + 0.5*a1**2*m2 + 0.5*a1**2*m3 + 1.0*a1*a2*m3*cos(q2) + 1.0*a1*dc2*m2*cos(q2) + 1.0*a1*dc3*m3*cos(q2 + q3) + 0.5*a2**2*m3 + 1.0*a2*dc3*m3*cos(q3) + 0.5*dc1**2*m1 + 0.5*dc2**2*m2 + 0.5*dc3**2*m3, 1.0*Izz2 + 1.0*Izz3 + 1.0*a1*a2*m3*cos(q2) + 1.0*a1*dc2*m2*cos(q2) + 1.0*a1*dc3*m3*cos(q2 + q3) + 1.0*a2**2*m3 + 2.0*a2*dc3*m3*cos(q3) + 1.0*dc2**2*m2 + 1.0*dc3**2*m3, 1.0*Izz3 + 1.0*a1*dc3*m3*cos(q2 + q3) + 1.0*a2*dc3*m3*cos(q3) + 1.0*dc3**2*m3],\n",
       "[                                                         1.0*Izz2 + 1.0*Izz3 + 1.0*a1*a2*m3*cos(q2) + 1.0*a1*dc2*m2*cos(q2) + 1.0*a1*dc3*m3*cos(q2 + q3) + 1.0*a2**2*m3 + 2.0*a2*dc3*m3*cos(q3) + 1.0*dc2**2*m2 + 1.0*dc3**2*m3,                                                                             0.5*Izz2 + 0.5*Izz3 + 0.5*a2**2*m3 + 1.0*a2*dc3*m3*cos(q3) + 0.5*dc2**2*m2 + 0.5*dc3**2*m3,                              1.0*Izz3 + 1.0*a2*dc3*m3*cos(q3) + 1.0*dc3**2*m3],\n",
       "[                                                                                                                                                  1.0*Izz3 + 1.0*a1*dc3*m3*cos(q2 + q3) + 1.0*a2*dc3*m3*cos(q3) + 1.0*dc3**2*m3,                                                                                                                       1.0*Izz3 + 1.0*a2*dc3*m3*cos(q3) + 1.0*dc3**2*m3,                                                      0.5*Izz3 + 0.5*dc3**2*m3]])"
      ]
     },
     "execution_count": 3,
     "metadata": {},
     "output_type": "execute_result"
    }
   ],
   "source": [
    "import sympy as sym\n",
    "import numpy as np\n",
    "from tools.Models import *\n",
    "\n",
    "n = 3\n",
    "robot = SymbolicPlanarRobot(n)\n",
    "model = EulerLagrange(n, robot = robot)\n",
    "sympy.Matrix(model.M)"
   ]
  }
 ],
 "metadata": {
  "kernelspec": {
   "display_name": "base",
   "language": "python",
   "name": "python3"
  },
  "language_info": {
   "codemirror_mode": {
    "name": "ipython",
    "version": 3
   },
   "file_extension": ".py",
   "mimetype": "text/x-python",
   "name": "python",
   "nbconvert_exporter": "python",
   "pygments_lexer": "ipython3",
   "version": "3.10.12"
  },
  "orig_nbformat": 4
 },
 "nbformat": 4,
 "nbformat_minor": 2
}
