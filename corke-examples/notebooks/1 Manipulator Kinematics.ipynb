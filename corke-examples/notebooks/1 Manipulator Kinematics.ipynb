{
 "cells": [
  {
   "cell_type": "code",
   "execution_count": 1,
   "metadata": {},
   "outputs": [],
   "source": [
    "try:\n",
    "  # We must install required packages if we are in Google Colab\n",
    "  import google.colab\n",
    "  %pip install roboticstoolbox-python>=1.0.2\n",
    "except:\n",
    "  # We are not in Google Colab\n",
    "  # Apply custon style to notebook\n",
    "  from IPython.core.display import HTML\n",
    "  import pathlib\n",
    "  styles_path = pathlib.Path(pathlib.Path().absolute(), \"style\", \"style.css\")\n",
    "  styles = open(styles_path, \"r\").read()\n",
    "  HTML(f\"<style>{styles}</style>\")"
   ]
  },
  {
   "attachments": {},
   "cell_type": "markdown",
   "metadata": {},
   "source": [
    "# 1.0 Manipulator Kinematics\n",
    "\n",
    "$\\large{\\text{Manipulator Differential Kinematics}} \\\\ \\large{\\text{Part I: Kinematics, Velocity, and Applications}}$\n",
    "\n",
    "$\\text{By Jesse Haviland and Peter Corke}$\n",
    "\n",
    "<br>\n",
    "\n",
    "The sections of the Tutorial paper related to this notebook are listed next to each contents entry.\n",
    "It is beneficial to read these sections of the paper before attempting the notebook Section.\n",
    "\n",
    "### Contents\n",
    "\n",
    "[1.1 The Elementary Transform Sequence](#ets)\n",
    "* Introduction\n",
    "* Forward Kinematics\n",
    "\n",
    "[1.2 Forward Kinematics](#fk)\n",
    "* Forward Kinematics\n"
   ]
  },
  {
   "cell_type": "code",
   "execution_count": 2,
   "metadata": {},
   "outputs": [],
   "source": [
    "# We will do the imports required for this notebook here\n",
    "\n",
    "# numpy provides import array and linear algebra utilities\n",
    "import numpy as np\n",
    "\n",
    "# the robotics toolbox provides robotics specific functionality\n",
    "import roboticstoolbox as rtb\n",
    "\n",
    "# spatial math provides objects for representing transformations\n",
    "import spatialmath as sm"
   ]
  },
  {
   "attachments": {},
   "cell_type": "markdown",
   "metadata": {},
   "source": [
    "<br>\n",
    "\n",
    "<a id='ets'></a>\n",
    "### 1.1 The Elementary Transform Sequence\n",
    "---"
   ]
  },
  {
   "attachments": {},
   "cell_type": "markdown",
   "metadata": {},
   "source": [
    "The elementary transform sequence (ETS) provides a universal method for describing the kinematics of any manipulator. An ETS comprises a number of elementary transforms $\\bf{E}_i$ -- translations and rotations -- from the base frame to the robot's end-effector.\n",
    "\n",
    "\\begin{align*}\n",
    "    \\bf{E}_i = \n",
    "    \\left\\{\n",
    "    \\begin{matrix}\n",
    "        \\bf{T}_{t_{x}}(\\eta_i) \\\\\n",
    "        \\bf{T}_{t_{y}}(\\eta_i) \\\\\n",
    "        \\bf{T}_{t_{z}}(\\eta_i) \\\\\n",
    "        \\bf{T}_{R_{x}}(\\eta_i) \\\\\n",
    "        \\bf{T}_{R_{y}}(\\eta_i) \\\\\n",
    "        \\bf{T}_{R_{z}}(\\eta_i)\n",
    "    \\end{matrix}\n",
    "    \\right.\n",
    "\\end{align*}\n",
    "\n",
    "where the parameter $\\eta_i$ is either a constant $c_i$ (translational offset or rotation) or a joint variable $q_j(t)$\n",
    "\n",
    "\\begin{equation*}\n",
    "    \\eta_i = \n",
    "    \\left\\{\n",
    "    \\begin{matrix}\n",
    "        c_i \\\\\n",
    "        q_j(t) \\\\\n",
    "    \\end{matrix}\n",
    "    \\right. \n",
    "\\end{equation*}\n",
    "\n",
    "and the joint variable is\n",
    "\n",
    "\\begin{equation*}\n",
    "    q_j(t) = \n",
    "    \\left\\{\n",
    "    \\begin{matrix}\n",
    "        \\theta_j(t) & \\quad \\text{for a revolute joint}\\\\\n",
    "        d_j(t) & \\quad \\text{for a prismatic joint}\\\\\n",
    "    \\end{matrix}\n",
    "    \\right. \n",
    "\\end{equation*}\n",
    "where $\\theta_j(t)$ represents a joint angle, and $d_j(t)$ represents a joint translation.\n",
    "\n",
    "Each of the 6 possible ETs are displayed below\n",
    "\n",
    "<br>\n",
    "\n",
    "<br>\n",
    "\n",
    "<img src=\"img/elementary_transforms_dark.png\" alt=\"drawing\" width=\"450\"/>\n",
    "\n",
    "<br>\n",
    "\n",
    "<br>\n",
    "\n",
    "Using the Robotics Toolbox for Python we can create an ET"
   ]
  },
  {
   "cell_type": "code",
   "execution_count": 3,
   "metadata": {},
   "outputs": [
    {
     "name": "stdout",
     "output_type": "stream",
     "text": [
      "Rx(q)\n",
      "Rx(90°)\n"
     ]
    }
   ],
   "source": [
    "# This is a variable rotation around the x-axis\n",
    "rx_var = rtb.ET.Rx()\n",
    "\n",
    "# This is a constant rotation around the x-axis by 90 degrees\n",
    "rx_cons = rtb.ET.Rx(np.pi / 2)\n",
    "\n",
    "# By printing each of the ET's we made, we can view them in a more readable format\n",
    "print(rx_var)\n",
    "print(rx_cons)"
   ]
  },
  {
   "cell_type": "code",
   "execution_count": 4,
   "metadata": {},
   "outputs": [
    {
     "name": "stdout",
     "output_type": "stream",
     "text": [
      "Numpy array SE3: \n",
      "[[ 1.000000e+00  0.000000e+00  0.000000e+00  0.000000e+00]\n",
      " [ 0.000000e+00  6.123234e-17 -1.000000e+00  0.000000e+00]\n",
      " [ 0.000000e+00  1.000000e+00  6.123234e-17  0.000000e+00]\n",
      " [ 0.000000e+00  0.000000e+00  0.000000e+00  1.000000e+00]]\n",
      "\n",
      "Spatialmath SE3: \n",
      "  \u001b[38;5;1m 1       \u001b[0m \u001b[38;5;1m 0       \u001b[0m \u001b[38;5;1m 0       \u001b[0m \u001b[38;5;4m 0       \u001b[0m  \u001b[0m\n",
      "  \u001b[38;5;1m 0       \u001b[0m \u001b[38;5;1m 0       \u001b[0m \u001b[38;5;1m-1       \u001b[0m \u001b[38;5;4m 0       \u001b[0m  \u001b[0m\n",
      "  \u001b[38;5;1m 0       \u001b[0m \u001b[38;5;1m 1       \u001b[0m \u001b[38;5;1m 0       \u001b[0m \u001b[38;5;4m 0       \u001b[0m  \u001b[0m\n",
      "  \u001b[38;5;244m 0       \u001b[0m \u001b[38;5;244m 0       \u001b[0m \u001b[38;5;244m 0       \u001b[0m \u001b[38;5;244m 1       \u001b[0m  \u001b[0m\n",
      "\n"
     ]
    }
   ],
   "source": [
    "# We can calculate the transform resulting from the rx_cons ET using the .A method\n",
    "transform = rx_cons.A()\n",
    "\n",
    "# The .A method returns a numpy array\n",
    "# Using the spatialmath package, we can create an SE3 object from the array\n",
    "sm_transform = sm.SE3(transform)\n",
    "\n",
    "# The spatialmath package provides great utility for working with transforms \n",
    "# and will print SE3s in a more intuitive way a plain numpy array\n",
    "\n",
    "print(f\"Numpy array SE3: \\n{transform}\")\n",
    "print()\n",
    "print(f\"Spatialmath SE3: \\n{sm_transform}\")"
   ]
  },
  {
   "cell_type": "code",
   "execution_count": 5,
   "metadata": {},
   "outputs": [
    {
     "name": "stdout",
     "output_type": "stream",
     "text": [
      "Resulting SE3 at 45 degrees: \n",
      "  \u001b[38;5;1m 1       \u001b[0m \u001b[38;5;1m 0       \u001b[0m \u001b[38;5;1m 0       \u001b[0m \u001b[38;5;4m 0       \u001b[0m  \u001b[0m\n",
      "  \u001b[38;5;1m 0       \u001b[0m \u001b[38;5;1m 0.7071  \u001b[0m \u001b[38;5;1m-0.7071  \u001b[0m \u001b[38;5;4m 0       \u001b[0m  \u001b[0m\n",
      "  \u001b[38;5;1m 0       \u001b[0m \u001b[38;5;1m 0.7071  \u001b[0m \u001b[38;5;1m 0.7071  \u001b[0m \u001b[38;5;4m 0       \u001b[0m  \u001b[0m\n",
      "  \u001b[38;5;244m 0       \u001b[0m \u001b[38;5;244m 0       \u001b[0m \u001b[38;5;244m 0       \u001b[0m \u001b[38;5;244m 1       \u001b[0m  \u001b[0m\n",
      "\n"
     ]
    }
   ],
   "source": [
    "# To calculate the transform resulting from the rx_var ET, \n",
    "# we must supply a joint coordinate when using the .A method\n",
    "\n",
    "# Make the joint at 45 degrees\n",
    "q = np.pi / 4\n",
    "transform = rx_var.A(q)\n",
    "sm_transform = sm.SE3(transform)\n",
    "print(f\"Resulting SE3 at 45 degrees: \\n{sm_transform}\")"
   ]
  },
  {
   "cell_type": "code",
   "execution_count": 6,
   "metadata": {},
   "outputs": [
    {
     "name": "stdout",
     "output_type": "stream",
     "text": [
      "ty(q)\n",
      "ty(0.25)\n"
     ]
    }
   ],
   "source": [
    "# We can also create prismatic joints\n",
    "# This is a variable translation around the y-axis\n",
    "ty_var = rtb.ET.ty()\n",
    "\n",
    "# This is a constant translation along the y-axis by 25 cm\n",
    "ty_cons = rtb.ET.ty(0.25)\n",
    "\n",
    "# View the ETs\n",
    "print(ty_var)\n",
    "print(ty_cons)"
   ]
  },
  {
   "cell_type": "code",
   "execution_count": 7,
   "metadata": {},
   "outputs": [
    {
     "name": "stdout",
     "output_type": "stream",
     "text": [
      "SE3: \n",
      "  \u001b[38;5;1m 1       \u001b[0m \u001b[38;5;1m 0       \u001b[0m \u001b[38;5;1m 0       \u001b[0m \u001b[38;5;4m 0       \u001b[0m  \u001b[0m\n",
      "  \u001b[38;5;1m 0       \u001b[0m \u001b[38;5;1m 1       \u001b[0m \u001b[38;5;1m 0       \u001b[0m \u001b[38;5;4m 0.25    \u001b[0m  \u001b[0m\n",
      "  \u001b[38;5;1m 0       \u001b[0m \u001b[38;5;1m 0       \u001b[0m \u001b[38;5;1m 1       \u001b[0m \u001b[38;5;4m 0       \u001b[0m  \u001b[0m\n",
      "  \u001b[38;5;244m 0       \u001b[0m \u001b[38;5;244m 0       \u001b[0m \u001b[38;5;244m 0       \u001b[0m \u001b[38;5;244m 1       \u001b[0m  \u001b[0m\n",
      "\n"
     ]
    }
   ],
   "source": [
    "# We can calculate the transform resulting from the ty_cons ET using the .A method\n",
    "transform = ty_cons.A()\n",
    "\n",
    "# Create an SE3 object from the array\n",
    "sm_transform = sm.SE3(transform)\n",
    "\n",
    "print(f\"SE3: \\n{sm_transform}\")"
   ]
  },
  {
   "cell_type": "code",
   "execution_count": 8,
   "metadata": {},
   "outputs": [
    {
     "name": "stdout",
     "output_type": "stream",
     "text": [
      "Resulting SE3 at 15 cm: \n",
      "  \u001b[38;5;1m 1       \u001b[0m \u001b[38;5;1m 0       \u001b[0m \u001b[38;5;1m 0       \u001b[0m \u001b[38;5;4m 0       \u001b[0m  \u001b[0m\n",
      "  \u001b[38;5;1m 0       \u001b[0m \u001b[38;5;1m 1       \u001b[0m \u001b[38;5;1m 0       \u001b[0m \u001b[38;5;4m 0.15    \u001b[0m  \u001b[0m\n",
      "  \u001b[38;5;1m 0       \u001b[0m \u001b[38;5;1m 0       \u001b[0m \u001b[38;5;1m 1       \u001b[0m \u001b[38;5;4m 0       \u001b[0m  \u001b[0m\n",
      "  \u001b[38;5;244m 0       \u001b[0m \u001b[38;5;244m 0       \u001b[0m \u001b[38;5;244m 0       \u001b[0m \u001b[38;5;244m 1       \u001b[0m  \u001b[0m\n",
      "\n"
     ]
    }
   ],
   "source": [
    "# To calculate the transform resulting from the ty_var ET, \n",
    "# we must supply a joint coordinate when using the .A method\n",
    "\n",
    "# Make the joint at 15 cm\n",
    "q = 0.15\n",
    "transform = ty_var.A(q)\n",
    "sm_transform = sm.SE3(transform)\n",
    "print(f\"Resulting SE3 at 15 cm: \\n{sm_transform}\")"
   ]
  },
  {
   "attachments": {},
   "cell_type": "markdown",
   "metadata": {},
   "source": [
    "\n",
    "Below is a schematic of a seven degree-of-freedom Franka Emika Panda manipulator. It contains 15 ETs to represent its kinematics.\n",
    "\n",
    "<img src=\"img/cover.png\" alt=\"drawing\" width=\"600\"/>\n",
    "\n",
    "Using the ET class we can make all 15 of these ETs in Python\n"
   ]
  },
  {
   "attachments": {},
   "cell_type": "markdown",
   "metadata": {},
   "source": []
  },
  {
   "cell_type": "code",
   "execution_count": 9,
   "metadata": {},
   "outputs": [
    {
     "name": "stdout",
     "output_type": "stream",
     "text": [
      "tz(0.333) ⊕ Rz(q0) ⊕ Ry(q1)\n",
      "tz(0.333) ⊕ Rz(q0) ⊕ Ry(q1)\n",
      "tz(0.333) ⊕ Rz(q0) ⊕ Ry(q1) ⊕ tz(0.316)\n",
      "tz(0.333) ⊕ Rz(q0) ⊕ Ry(q1) ⊕ tz(0.316) ⊕ Rz(q0)\n"
     ]
    }
   ],
   "source": [
    "# Note for for E7 and E11 in the figure above and code below, we use flip=True\n",
    "# as the variable rotation is in the negative direction.\n",
    "\n",
    "E1 = rtb.ET.tz(0.333)\n",
    "E2 = rtb.ET.Rz()\n",
    "E3 = rtb.ET.Ry()\n",
    "E4 = rtb.ET.tz(0.316)\n",
    "E5 = rtb.ET.Rz()\n",
    "E6 = rtb.ET.tx(0.0825)\n",
    "E7 = rtb.ET.Ry(flip=True)\n",
    "E8 = rtb.ET.tx(-0.0825)\n",
    "E9 = rtb.ET.tz(0.384)\n",
    "E10 = rtb.ET.Rz()\n",
    "E11 = rtb.ET.Ry(flip=True)\n",
    "E12 = rtb.ET.tx(0.088)\n",
    "E13 = rtb.ET.Rx(np.pi)\n",
    "E14 = rtb.ET.tz(0.107)\n",
    "E15 = rtb.ET.Rz()\n",
    "\n",
    "# We can create and ETS in a number of ways\n",
    "\n",
    "# Firstly if we use the * operator between two or more ETs, we get an ETS\n",
    "ets1 = E1 * E2 * E3\n",
    "\n",
    "# Secondly, we can use the ETS constructor and pass in a list of ETs\n",
    "ets2 = rtb.ETS([E1, E2, E3])\n",
    "\n",
    "# We can also use the * operator between ETS' and ETs to concatenate\n",
    "ets3 = ets2 * E4\n",
    "ets4 = ets2 * rtb.ETS([E4, E5])\n",
    "\n",
    "print(ets1)\n",
    "print(ets2)\n",
    "print(ets3)\n",
    "print(ets4)\n"
   ]
  },
  {
   "cell_type": "code",
   "execution_count": 10,
   "metadata": {},
   "outputs": [
    {
     "name": "stdout",
     "output_type": "stream",
     "text": [
      "tz(0.333) ⊕ Rz(q0) ⊕ Ry(q1) ⊕ tz(0.316) ⊕ Rz(q2) ⊕ tx(0.0825) ⊕ Ry(-q3) ⊕ tx(-0.0825) ⊕ tz(0.384) ⊕ Rz(q4) ⊕ Ry(-q5) ⊕ tx(0.088) ⊕ Rx(180°) ⊕ tz(0.107) ⊕ Rz(q6)\n",
      "\n",
      "The panda has 7 joints\n",
      "The panda has 15 ETs\n",
      "The second ET in the ETS is Rz(q0)\n",
      "The first variable joint has a jindex of 0, while the second has a jindex of 1\n",
      "\n",
      "All variable liks in the Panda ETS: \n",
      "[ET.Rz(jindex=0), ET.Ry(jindex=1), ET.Rz(jindex=2), ET.Ry(jindex=3, flip=True), ET.Rz(jindex=4), ET.Ry(jindex=5, flip=True), ET.Rz(jindex=6)]\n"
     ]
    }
   ],
   "source": [
    "# We can make an ETS representing a Panda by incorprating all 15 ETs into an ETS\n",
    "panda = E1 * E2 * E3 * E4 * E5 * E6 * E7 * E8 * E9 * E10 * E11 * E12 * E13 * E14 * E15\n",
    "\n",
    "# View the ETS\n",
    "print(panda)\n",
    "print()\n",
    "\n",
    "# The ETS class has many usefull properties\n",
    "# print the number of joints in the panda model\n",
    "print(f\"The panda has {panda.n} joints\")\n",
    "\n",
    "# print the number of ETs in the panda model\n",
    "print(f\"The panda has {panda.m} ETs\")\n",
    "\n",
    "# We can access an ET from an ETS as if the ETS were a Python list\n",
    "print(f\"The second ET in the ETS is {panda[1]}\")\n",
    "\n",
    "# When a variable ET is added to an ETS, it is assigned a jindex, which is short for joint index\n",
    "# When given an array of joint coordinates (i.e. joint angles), the ETS will use the jindices of each\n",
    "# variable ET to correspond with elements of the given joint coordiante array\n",
    "print(f\"The first variable joint has a jindex of {panda[1].jindex}, while the second has a jindex of {panda[2].jindex}\")\n",
    "\n",
    "# We can extract all of the variable ETs from the panda model as a list\n",
    "print(f\"\\nAll variable liks in the Panda ETS: \\n{panda.joints()}\")"
   ]
  },
  {
   "attachments": {},
   "cell_type": "markdown",
   "metadata": {},
   "source": [
    "<br>\n",
    "\n",
    "<a id='fk'></a>\n",
    "### 1.2 Forward Kinematics\n",
    "---"
   ]
  },
  {
   "attachments": {},
   "cell_type": "markdown",
   "metadata": {},
   "source": [
    "\n",
    "The forward kinematics is the first and most basic relationship between the link geometry and robot configuration.\n",
    "\n",
    "The forward kinematics of a manipulator provides a non-linear mapping\n",
    "\\begin{equation*}\n",
    "    {^0\\bf{T}_e(t)} = {\\cal K}(\\bf{q}(t))\n",
    "\\end{equation*}\n",
    "between the joint space and Cartesian task space,\n",
    "where $\\bf{q}(t) = (q_1(t), q_2(t), \\cdots q_n(t)) \\in \\mathbb{R}^n$ is the vector of joint generalised coordinates, $n$ is the number of joints, and ${^0\\bf{T}_e}  \\in \\bf{SE}{3}$ is a homogeneous transformation matrix representing the pose of the robot's end-effector in the world-coordinate frame. The ETS model defines $\\cal{K}(\\cdot)$ as the product of $M$ elementary transforms $\\bf{E}_i \\in \\bf{SE}{3}$\n",
    "\\begin{align*}\n",
    "    {^0\\bf{T}_e(t)}  &= \\bf{E}_1(\\eta_1) \\ \\bf{E}_2(\\eta_2) \\ \\cdot\\cdot\\cdot \\ \\bf{E}_M(\\eta_M) \\\\\n",
    "    &= \\prod_{i=1}^{M} \\bf{E}_i(\\eta_i).\n",
    "\\end{align*}\n"
   ]
  },
  {
   "cell_type": "code",
   "execution_count": 11,
   "metadata": {},
   "outputs": [
    {
     "name": "stdout",
     "output_type": "stream",
     "text": [
      "  \u001b[38;5;1m 0.7003  \u001b[0m \u001b[38;5;1m-0.7068  \u001b[0m \u001b[38;5;1m 0.09983 \u001b[0m \u001b[38;5;4m 0.4737  \u001b[0m  \u001b[0m\n",
      "  \u001b[38;5;1m-0.7104  \u001b[0m \u001b[38;5;1m-0.7038  \u001b[0m \u001b[38;5;1m 0       \u001b[0m \u001b[38;5;4m 0       \u001b[0m  \u001b[0m\n",
      "  \u001b[38;5;1m 0.07027 \u001b[0m \u001b[38;5;1m-0.07092 \u001b[0m \u001b[38;5;1m-0.995   \u001b[0m \u001b[38;5;4m 0.5155  \u001b[0m  \u001b[0m\n",
      "  \u001b[38;5;244m 0       \u001b[0m \u001b[38;5;244m 0       \u001b[0m \u001b[38;5;244m 0       \u001b[0m \u001b[38;5;244m 1       \u001b[0m  \u001b[0m\n",
      "\n"
     ]
    }
   ],
   "source": [
    "# Using the above methodolgy, we can calculate the forward kinematics of our Panda model\n",
    "# First, we must define the joint coordinates q, to calculate the forward kinematics at\n",
    "q = np.array([0, -0.3, 0, -2.2, 0, 2, 0.79])\n",
    "\n",
    "# Allocate the resulting forward kinematics array\n",
    "fk = np.eye(4)\n",
    "\n",
    "# Now we must loop over the ETs in the Panda\n",
    "for et in panda:\n",
    "    if et.isjoint:\n",
    "        # This ET is a variable joint\n",
    "        # Use the q array to specify the joint angle for the variable ET\n",
    "        fk = fk @ et.A(q[et.jindex])\n",
    "    else:\n",
    "        # This ET is static\n",
    "        fk = fk @ et.A()\n",
    "\n",
    "# Pretty print our resulting forward kinematics using an SE3 object\n",
    "print(sm.SE3(fk))"
   ]
  },
  {
   "cell_type": "code",
   "execution_count": 12,
   "metadata": {},
   "outputs": [
    {
     "name": "stdout",
     "output_type": "stream",
     "text": [
      "The fkine method: \n",
      "  \u001b[38;5;1m 0.7003  \u001b[0m \u001b[38;5;1m-0.7068  \u001b[0m \u001b[38;5;1m 0.09983 \u001b[0m \u001b[38;5;4m 0.4737  \u001b[0m  \u001b[0m\n",
      "  \u001b[38;5;1m-0.7104  \u001b[0m \u001b[38;5;1m-0.7038  \u001b[0m \u001b[38;5;1m 0       \u001b[0m \u001b[38;5;4m 0       \u001b[0m  \u001b[0m\n",
      "  \u001b[38;5;1m 0.07027 \u001b[0m \u001b[38;5;1m-0.07092 \u001b[0m \u001b[38;5;1m-0.995   \u001b[0m \u001b[38;5;4m 0.5155  \u001b[0m  \u001b[0m\n",
      "  \u001b[38;5;244m 0       \u001b[0m \u001b[38;5;244m 0       \u001b[0m \u001b[38;5;244m 0       \u001b[0m \u001b[38;5;244m 1       \u001b[0m  \u001b[0m\n",
      "\n",
      "The eval method: \n",
      "[[ 7.00329021e-01 -7.06804465e-01  9.98334166e-02  4.73724040e-01]\n",
      " [-7.10353272e-01 -7.03845316e-01 -1.22464680e-16 -1.31037208e-17]\n",
      " [ 7.02672827e-02 -7.09169942e-02 -9.95004165e-01  5.15513206e-01]\n",
      " [ 0.00000000e+00  0.00000000e+00  0.00000000e+00  1.00000000e+00]]\n"
     ]
    }
   ],
   "source": [
    "# The ETS class has the .fkine method which can calculate the forward kinematics\n",
    "# The .fkine methods returns an SE3 object\n",
    "print(f\"The fkine method: \\n{panda.fkine(q)}\")\n",
    "\n",
    "# The .eval method also calculates the forward kinematics but returns an numpy array\n",
    "# instead of an SE3 object (use this if speed is a priority)\n",
    "print(f\"The eval method: \\n{panda.eval(q)}\")"
   ]
  }
 ],
 "metadata": {
  "kernelspec": {
   "display_name": "rtb",
   "language": "python",
   "name": "python3"
  },
  "language_info": {
   "codemirror_mode": {
    "name": "ipython",
    "version": 3
   },
   "file_extension": ".py",
   "mimetype": "text/x-python",
   "name": "python",
   "nbconvert_exporter": "python",
   "pygments_lexer": "ipython3",
   "version": "3.11.0"
  },
  "vscode": {
   "interpreter": {
    "hash": "4e8f2602a343ae62ff483b4df7805ab0eb447ccc1a56caf0631d5620d36b21ab"
   }
  }
 },
 "nbformat": 4,
 "nbformat_minor": 2
}
